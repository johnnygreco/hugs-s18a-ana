{
 "cells": [
  {
   "cell_type": "code",
   "execution_count": 33,
   "metadata": {},
   "outputs": [],
   "source": [
    "%matplotlib inline\n",
    "import sys\n",
    "import numpy as np\n",
    "import matplotlib.pyplot as plt\n",
    "\n",
    "import hugs\n",
    "from hugs.database.tables import Source, Synth\n",
    "import pandas as pd\n",
    "from astropy import units as u\n",
    "from astropy.coordinates import SkyCoord"
   ]
  },
  {
   "cell_type": "code",
   "execution_count": 29,
   "metadata": {},
   "outputs": [],
   "source": [
    "from hugs.log import logger"
   ]
  },
  {
   "cell_type": "code",
   "execution_count": 2,
   "metadata": {},
   "outputs": [],
   "source": [
    "import os\n",
    "sys.path.append('../scripts')"
   ]
  },
  {
   "cell_type": "code",
   "execution_count": 3,
   "metadata": {},
   "outputs": [],
   "source": [
    "import pandas as pd\n",
    "from astropy.table import Table\n",
    "default_synth_dir = '/tigress/jgreco/hsc-s18a/synths/global'"
   ]
  },
  {
   "cell_type": "code",
   "execution_count": 4,
   "metadata": {},
   "outputs": [],
   "source": [
    "synth_fn = os.path.join(default_synth_dir, 'global-synth-cat.fits')\n",
    "cat_fn = '../data/hugs-cat.csv'"
   ]
  },
  {
   "cell_type": "code",
   "execution_count": 122,
   "metadata": {},
   "outputs": [],
   "source": [
    "synth_cat_all = Table.read(synth_fn)"
   ]
  },
  {
   "cell_type": "code",
   "execution_count": 5,
   "metadata": {},
   "outputs": [],
   "source": [
    "db_fn = '/tigress/jgreco/hsc-s18a/synths/global/hsc-s18a-default-hugs/hsc-s18a-wide-synths.db'"
   ]
  },
  {
   "cell_type": "code",
   "execution_count": 6,
   "metadata": {},
   "outputs": [],
   "source": [
    "engine = hugs.database.connect(db_fn)\n",
    "session = hugs.database.Session()"
   ]
  },
  {
   "cell_type": "code",
   "execution_count": 115,
   "metadata": {},
   "outputs": [],
   "source": [
    "def get_catalog(no_cuts=False):\n",
    "\n",
    "    logger.info('connecting to hugs database')\n",
    "    engine = hugs.database.connect(db_fn)\n",
    "    session = hugs.database.Session()\n",
    "\n",
    "    size_cut_low = 2.5\n",
    "    size_cut_high = 100.0\n",
    "    m, b = 0.7, 0.4\n",
    "\n",
    "    color_line_lo =  lambda _x: m*_x - b\n",
    "    color_line_hi =  lambda _x: m*_x + b\n",
    "    gi = Source.mag_ap9_g - Source.mag_ap9_i\n",
    "    gr = Source.mag_ap9_g - Source.mag_ap9_r\n",
    "\n",
    "    if no_cuts:\n",
    "        query = session.query(Source)\n",
    "    else:\n",
    "        logger.warn('applying cuts')\n",
    "        query = session.query(Source)\\\n",
    "            .filter(Source.flux_radius_65_g > size_cut_low)\\\n",
    "            .filter(Source.flux_radius_65_g < size_cut_high)\\\n",
    "            .filter(gi > -0.1)\\\n",
    "            .filter(gi < 1.4)\\\n",
    "            .filter(color_line_lo(gi) < gr)\\\n",
    "            .filter(color_line_hi(gi) > gr)\n",
    "\n",
    "    logger.info('converting query to pandas dataframe')\n",
    "    cat = pd.read_sql(query.statement, engine)\n",
    "\n",
    "    return cat\n",
    "\n",
    "def match_synths(hugs_cat, synth_cat, min_sep=1.0*u.arcsec):\n",
    "\n",
    "    if type(hugs_cat) != Table:\n",
    "        hugs_cat = Table.from_pandas(hugs_cat)\n",
    "    if type(synth_cat) != Table:\n",
    "        synth_cat = Table.from_pandas(synth_cat)\n",
    "\n",
    "    hugs_coord = SkyCoord(hugs_cat['ra'], hugs_cat['dec'], unit='deg')\n",
    "    synth_coord = SkyCoord(synth_cat['ra'], synth_cat['dec'], unit='deg')\n",
    "\n",
    "    logger.info('finding nearest neighbor within {:.1f}'.\\\n",
    "                format(min_sep))\n",
    "    hugs_idx_1, sep_1, _ = synth_coord.match_to_catalog_sky(hugs_coord, 1)\n",
    "    synth_mask_1 = sep_1 < min_sep\n",
    "    synth_match = synth_cat[synth_mask_1]\n",
    "\n",
    "    logger.info('finding second nearest neighbor within {:.1f}'.\\\n",
    "                format(min_sep))\n",
    "    hugs_idx_2, sep_2, _ = synth_coord.match_to_catalog_sky(hugs_coord, 2)\n",
    "    synth_mask_2 = sep_2 < min_sep\n",
    "\n",
    "    synth_mask_12 = synth_mask_1 & synth_mask_2\n",
    "    synth_match_12 = synth_cat[synth_mask_12]\n",
    "\n",
    "    hugs_match_1 = hugs_cat[hugs_idx_1][synth_mask_12]\n",
    "    hugs_match_2 = hugs_cat[hugs_idx_2][synth_mask_12]\n",
    "\n",
    "    logger.info('keeping match with better radius measurement')\n",
    "    diff_1 = np.abs(synth_match_12['r_e'] - hugs_match_1['flux_radius_50_i'])\n",
    "    diff_2 = np.abs(synth_match_12['r_e'] - hugs_match_2['flux_radius_50_i'])\n",
    "    switch_match = diff_1 > diff_2\n",
    "\n",
    "    logger.warn('switching {} matches'.format(switch_match.sum()))\n",
    "    mask_idx = np.argwhere(synth_mask_12)[~switch_match]\n",
    "    synth_mask_12[mask_idx] = False\n",
    "\n",
    "    hugs_idx_1[synth_mask_12] = hugs_idx_2[synth_mask_12]\n",
    "    hugs_match = hugs_cat[hugs_idx_1[synth_mask_1]]\n",
    "\n",
    "    return hugs_match, synth_match"
   ]
  },
  {
   "cell_type": "code",
   "execution_count": 218,
   "metadata": {},
   "outputs": [
    {
     "data": {
      "text/plain": [
       "0.14984508354905005"
      ]
     },
     "execution_count": 218,
     "metadata": {},
     "output_type": "execute_result"
    }
   ],
   "source": [
    "len(hugs_match) / len(hugs_cat)"
   ]
  },
  {
   "cell_type": "code",
   "execution_count": 9,
   "metadata": {},
   "outputs": [],
   "source": [
    "query = session.query(Synth)\n",
    "synth_ids = pd.read_sql(query.statement, engine)\n",
    "\n",
    "synth_id_unique, synth_id_idx = np.unique(synth_ids['synth_id'].values, return_index=True)\n",
    "synth_ids = synth_ids.iloc[synth_id_idx]"
   ]
  },
  {
   "cell_type": "code",
   "execution_count": 142,
   "metadata": {},
   "outputs": [
    {
     "name": "stdout",
     "output_type": "stream",
     "text": [
      "INFO: connecting to hugs database\n"
     ]
    },
    {
     "name": "stderr",
     "output_type": "stream",
     "text": [
      "/tigress/HSC/LSST/stack_tiger2-sumire.princeton.edu_20181028/stack/miniconda3-4.5.4-fcd27eb/Linux64/sqlalchemy/1.2.16/lib/python/SQLAlchemy-1.2.16-py3.6-linux-x86_64.egg/sqlalchemy/orm/scoping.py:107: SAWarning: At least one scoped session is already present.  configure() can not affect sessions that have already been created.\n",
      "  \"At least one scoped session is already present. \"\n",
      "/tigress/HSC/LSST/stack_tiger2-sumire.princeton.edu_20181028/python/miniconda3-4.5.4/envs/lsst-scipipe/lib/python3.6/site-packages/ipykernel_launcher.py:19: DeprecationWarning: The 'warn' method is deprecated, use 'warning' instead\n",
      "WARNING: applying cuts\n"
     ]
    },
    {
     "name": "stdout",
     "output_type": "stream",
     "text": [
      "INFO: converting query to pandas dataframe\n"
     ]
    }
   ],
   "source": [
    "hugs_cat = get_catalog()"
   ]
  },
  {
   "cell_type": "code",
   "execution_count": 145,
   "metadata": {},
   "outputs": [],
   "source": [
    "hugs_r_e = hugs_cat['flux_radius_60_g'] + hugs_cat['flux_radius_65_g']\n",
    "hugs_r_e *= 0.5\n",
    "hugs_cat['flux_radius_ave'] = hugs_r_e\n",
    "\n",
    "hugs_mu_ave = hugs_cat['mag_auto_g']\n",
    "hugs_mu_ave += 2.5 * np.log10(2*np.pi*hugs_cat['flux_radius_50_g']**2)\n",
    "hugs_cat['hugs_mu_ave_g'] = hugs_mu_ave"
   ]
  },
  {
   "cell_type": "code",
   "execution_count": 44,
   "metadata": {},
   "outputs": [],
   "source": [
    "mask_cols = ['mask_bright_object', 'mask_clean', 'mask_small', \n",
    "             'mask_no_data', 'mask_sat', 'mask_suspect']"
   ]
  },
  {
   "cell_type": "code",
   "execution_count": 201,
   "metadata": {},
   "outputs": [
    {
     "name": "stdout",
     "output_type": "stream",
     "text": [
      "70.2% synths injected\n"
     ]
    }
   ],
   "source": [
    "print('{:.1f}% synths injected'.format(100*len(synth_id_unique)/len(synth_cat_all)))\n",
    "synth_cat = synth_cat_all[synth_id_unique-1]"
   ]
  },
  {
   "cell_type": "code",
   "execution_count": 202,
   "metadata": {},
   "outputs": [
    {
     "name": "stdout",
     "output_type": "stream",
     "text": [
      "12.6% of synths masked\n"
     ]
    }
   ],
   "source": [
    "masked = synth_ids['mask_bright_object'].values | synth_ids['mask_no_data'].values | synth_ids['mask_sat'].values\n",
    "masked = masked.astype(bool)\n",
    "masked_frac = masked.sum()/len(synth_cat)\n",
    "print('{:.1f}% of synths masked'.format(100 * masked_frac))"
   ]
  },
  {
   "cell_type": "code",
   "execution_count": 215,
   "metadata": {},
   "outputs": [
    {
     "data": {
      "text/plain": [
       "226350"
      ]
     },
     "execution_count": 215,
     "metadata": {},
     "output_type": "execute_result"
    }
   ],
   "source": [
    "synth_id_idx.size"
   ]
  },
  {
   "cell_type": "code",
   "execution_count": 203,
   "metadata": {},
   "outputs": [
    {
     "data": {
      "text/plain": [
       "(226350, 322361)"
      ]
     },
     "execution_count": 203,
     "metadata": {},
     "output_type": "execute_result"
    }
   ],
   "source": [
    "len(synth_cat), len(synth_cat_all)"
   ]
  },
  {
   "cell_type": "code",
   "execution_count": 204,
   "metadata": {},
   "outputs": [],
   "source": [
    "synth_cat = synth_cat[~masked]"
   ]
  },
  {
   "cell_type": "code",
   "execution_count": 205,
   "metadata": {},
   "outputs": [
    {
     "data": {
      "text/plain": [
       "(197888, 322361)"
      ]
     },
     "execution_count": 205,
     "metadata": {},
     "output_type": "execute_result"
    }
   ],
   "source": [
    "len(synth_cat), len(synth_cat_all)"
   ]
  },
  {
   "cell_type": "code",
   "execution_count": 206,
   "metadata": {},
   "outputs": [
    {
     "name": "stdout",
     "output_type": "stream",
     "text": [
      "INFO: finding nearest neighbor within 1.0 arcsec\n",
      "INFO: finding second nearest neighbor within 1.0 arcsec\n",
      "INFO: keeping match with better radius measurement\n"
     ]
    },
    {
     "name": "stderr",
     "output_type": "stream",
     "text": [
      "/tigress/HSC/LSST/stack_tiger2-sumire.princeton.edu_20181028/python/miniconda3-4.5.4/envs/lsst-scipipe/lib/python3.6/site-packages/ipykernel_launcher.py:65: DeprecationWarning: The 'warn' method is deprecated, use 'warning' instead\n",
      "WARNING: switching 20219 matches\n"
     ]
    }
   ],
   "source": [
    "hugs_match, synth_match = match_synths(hugs_cat, synth_cat)"
   ]
  },
  {
   "cell_type": "code",
   "execution_count": 207,
   "metadata": {},
   "outputs": [
    {
     "data": {
      "text/plain": [
       "0.7011744016817594"
      ]
     },
     "execution_count": 207,
     "metadata": {},
     "output_type": "execute_result"
    }
   ],
   "source": [
    "len(synth_match) / len(synth_cat)"
   ]
  },
  {
   "cell_type": "code",
   "execution_count": 208,
   "metadata": {},
   "outputs": [],
   "source": [
    "param_dict = dict(\n",
    "    mu_e_ave_g = 'hugs_mu_ave_g',\n",
    "    m_g = 'mag_auto_g',\n",
    "    m_r = 'mag_auto_r',\n",
    "    m_i = 'mag_auto_i',\n",
    "    r_e = 'flux_radius_ave',\n",
    "    ell='ellipticity'\n",
    "    \n",
    ")\n",
    "\n",
    "labels = dict(\n",
    "    m_g = r'$m_g$',\n",
    "    m_r = r'$m_r$',\n",
    "    m_i = r'$m_i$',\n",
    "    mu_e_ave_g = r'$\\bar{\\mu}_\\mathrm{eff}(g)\\ \\mathrm{\\left[mag\\ arcsec^{-2}\\right]}$',\n",
    "    mu_e_ave_r = r'$\\bar{\\mu}_\\mathrm{eff}(g)\\ \\mathrm{\\left[mag\\ arcsec^{-2}\\right]}$',\n",
    "    mu_e_ave_i = r'$\\bar{\\mu}_\\mathrm{eff}(g)\\ \\mathrm{\\left[mag\\ arcsec^{-2}\\right]}$',\n",
    "    r_e = r'$r_\\mathrm{eff}$ [arcsec]',\n",
    "    ell = 'Ellipticity'\n",
    ")"
   ]
  },
  {
   "cell_type": "code",
   "execution_count": 209,
   "metadata": {},
   "outputs": [],
   "source": [
    "def completeness_grid(injected, recovered, measured, x_par, y_par, annot_type='none', percent=True, mask_zeros=True,\n",
    "                      cmap='Purples', label_fs=20, bins=None, dbin=[1,1], line_color='tab:red', \n",
    "                      x_bin_pad=[1, 3], y_bin_pad=[1, 3], frac_masked=0, return_hist_ax=False,\n",
    "                      xlim=None, ylim=None):\n",
    "    \n",
    "    if bins is None:\n",
    "        bins = [np.arange(np.floor(injected[x_par].min()) - x_bin_pad[0]*dbin[0], \n",
    "                          np.ceil(injected[x_par].max())+ x_bin_pad[1]*dbin[0], dbin[0]),\n",
    "                np.arange(np.floor(injected[y_par].min())- y_bin_pad[0]*dbin[1], \n",
    "                          np.ceil(injected[y_par].max())+ y_bin_pad[1]*dbin[1], dbin[1])]        \n",
    "\n",
    "    H_injected, _, _ = np.histogram2d(injected[x_par], injected[y_par], bins=bins)\n",
    "    H_measured, _, _ = np.histogram2d(recovered[x_par], recovered[y_par], bins=bins)\n",
    "    H_injected[H_injected==0] = 1e-8\n",
    "    H_injected *= (1 - frac_masked)\n",
    "    H_frac = H_measured/H_injected\n",
    "    H_frac[H_frac<1e-5] = np.nan\n",
    "\n",
    "    x_centers = 0.5 * (bins[0][1:] + bins[0][:-1]) - 0.5*dbin[0]\n",
    "    y_centers = 0.5 * (bins[1][1:] + bins[1][:-1]) - 0.5*dbin[1]\n",
    "    percent = 100.0 if percent else 1.0    \n",
    "    \n",
    "    # definitions for the axes\n",
    "    left, width = 0.1, 0.65\n",
    "    bottom, height = 0.1, 0.65\n",
    "    bottom_h = left_h = left + width + 0.02\n",
    "\n",
    "    rect_main = [left, bottom, width, height]\n",
    "    rect_histx = [left, bottom_h, width, 0.2]\n",
    "    rect_histy = [left_h, bottom, 0.2, height]\n",
    "   \n",
    "    fig = plt.figure(1, figsize=(9, 8))\n",
    "\n",
    "    ax = plt.axes(rect_main)\n",
    "    axHistx = plt.axes(rect_histx)\n",
    "    axHisty = plt.axes(rect_histy)\n",
    "    mask = (H_frac.T==0) if mask_zeros else None\n",
    "    \n",
    "    cax = ax.pcolormesh(x_centers, y_centers, percent * H_frac.T, cmap=cmap, vmin=0, vmax=percent)\n",
    "    cbaxes = plt.axes([left, -0.015, width, 0.03]) \n",
    "    cbar = fig.colorbar(cax, cax=cbaxes, orientation='horizontal')\n",
    "    cbar.ax.set_xlabel('Detection Efficiency (\\%)')\n",
    "    #if percent==100.0:\n",
    "    #    cbar.ax.set_xlim(0, 100)\n",
    "    ax.set_xlabel(labels[x_par], fontsize=label_fs)\n",
    "    ax.set_ylabel(ylabel=labels[y_par], fontsize=label_fs)\n",
    "    ax.minorticks_on()\n",
    "    if xlim:\n",
    "        ax.set_xlim(*xlim)\n",
    "    if ylim:\n",
    "        ax.set_ylim(*ylim)\n",
    "    \n",
    "    weights = np.ones_like(injected[x_par]) * (1 - frac_masked)\n",
    "    \n",
    "    axHistx.hist(injected[x_par], bins=x_centers, color='gray', alpha=0.5, \n",
    "                 label='Injected', weights=weights)\n",
    "    \n",
    "    axHistx.hist(recovered[x_par], bins=x_centers, color='k', alpha=0.5, label='Recovered')\n",
    "    axHistx.hist(measured[param_dict[x_par]], bins=x_centers, color=line_color, label='Measured',\n",
    "                 alpha=1, lw=3, histtype='step')\n",
    "\n",
    "    axHisty.hist(injected[y_par], bins=y_centers, color='gray', alpha=0.5,\n",
    "                 orientation='horizontal', weights=weights)\n",
    "    axHisty.hist(recovered[y_par], bins=y_centers, color='k', alpha=0.5,\n",
    "                 orientation='horizontal')\n",
    "    axHisty.hist(measured[param_dict[y_par]], bins=y_centers, color=line_color, \n",
    "                 alpha=1, histtype='step', lw=3, orientation='horizontal')\n",
    "\n",
    "    axHistx.set(xticklabels=[], xticks=ax.get_xticks(), xlim=ax.get_xlim())\n",
    "    axHistx.set_ylabel('Number')\n",
    "    axHisty.set(yticklabels=[], yticks=ax.get_yticks() ,ylim=ax.get_ylim())\n",
    "    axHisty.set_xlabel('Number')\n",
    "    axHistx.minorticks_on()\n",
    "    axHisty.minorticks_on()\n",
    "    axHistx.legend(loc=(1.03, 0.2), fontsize=17)\n",
    "\n",
    "    return (fig, ax, axHistx, axHisty) if return_hist_ax else (fig, ax)\n"
   ]
  },
  {
   "cell_type": "code",
   "execution_count": 221,
   "metadata": {},
   "outputs": [
    {
     "data": {
      "text/plain": [
       "'adsfasdfdsf'"
      ]
     },
     "execution_count": 221,
     "metadata": {},
     "output_type": "execute_result"
    }
   ],
   "source": [
    "'adsfasdfdsf.csv'[:-4]"
   ]
  },
  {
   "cell_type": "code",
   "execution_count": 211,
   "metadata": {},
   "outputs": [
    {
     "data": {
      "image/png": "[encoded data removed]",
      "text/plain": [
       "<Figure size 648x576 with 4 Axes>"
      ]
     },
     "metadata": {
      "needs_background": "light"
     },
     "output_type": "display_data"
    }
   ],
   "source": [
    "fig, ax = completeness_grid(synth_cat, synth_match, hugs_match, 'r_e', 'mu_e_ave_g', \n",
    "                            dbin=[0.5, 0.5], x_bin_pad=[1, 3]);\n",
    "\n",
    "fig.savefig('../figs/completeness-mu-re.png', dpi=200)"
   ]
  }
 ],
 "metadata": {
  "kernelspec": {
   "display_name": "Python 3",
   "language": "python",
   "name": "python3"
  },
  "language_info": {
   "codemirror_mode": {
    "name": "ipython",
    "version": 3
   },
   "file_extension": ".py",
   "mimetype": "text/x-python",
   "name": "python",
   "nbconvert_exporter": "python",
   "pygments_lexer": "ipython3",
   "version": "3.6.6"
  }
 },
 "nbformat": 4,
 "nbformat_minor": 2
}
