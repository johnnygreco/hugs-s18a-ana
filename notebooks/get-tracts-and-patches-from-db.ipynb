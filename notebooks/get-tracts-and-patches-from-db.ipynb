{
 "cells": [
  {
   "cell_type": "code",
   "execution_count": 1,
   "metadata": {},
   "outputs": [],
   "source": [
    "%matplotlib inline \n",
    "import numpy as np\n",
    "import matplotlib.pyplot as plt\n",
    "from astropy.table import Table\n",
    "from astropy.coordinates import SkyCoord\n",
    "from sqlalchemy.dialects import postgresql\n",
    "\n",
    "import hugs\n",
    "import pandas as pd\n",
    "from hugs.database.tables import Source, Tract, Patch"
   ]
  },
  {
   "cell_type": "code",
   "execution_count": 2,
   "metadata": {},
   "outputs": [],
   "source": [
    "db_fn = '/tigress/jgreco/hugs-s18a/hsc-s18a-wide-20180920-133449/hsc-s18a-wide.db'"
   ]
  },
  {
   "cell_type": "code",
   "execution_count": 3,
   "metadata": {},
   "outputs": [],
   "source": [
    "cat = Table.read('/tigress/jgreco/hugs-s18a/hsc-s18a-wide-20180920-133449/hugs-cat.csv')"
   ]
  },
  {
   "cell_type": "code",
   "execution_count": 33,
   "metadata": {},
   "outputs": [],
   "source": [
    "from sqlalchemy import Integer"
   ]
  },
  {
   "cell_type": "code",
   "execution_count": 34,
   "metadata": {},
   "outputs": [],
   "source": [
    "ids = tuple(cat['id'].astype(Integer))"
   ]
  },
  {
   "cell_type": "code",
   "execution_count": 5,
   "metadata": {},
   "outputs": [],
   "source": [
    "engine = hugs.database.connect(db_fn)\n",
    "session = hugs.database.Session()"
   ]
  },
  {
   "cell_type": "code",
   "execution_count": 192,
   "metadata": {},
   "outputs": [],
   "source": [
    "query = session.query(Tract.hsc_id.label('tract'), Patch.hsc_id.label('patch'), \n",
    "                      Source.id, Source.ra, Source.dec, Source.flux_radius_i, \n",
    "                      Source.mag_auto_i).\\\n",
    "                      join(Patch, Patch.tract_id==Tract.id).\\\n",
    "                      join(Source, Source.patch_id==Patch.id).\\\n",
    "                      filter(Source.id.in_(ids))\n",
    "\n",
    "#print(str(query.statement.compile(\n",
    "#    dialect=postgresql.dialect(),\n",
    "#compile_kwargs={\"literal_binds\": True})))"
   ]
  },
  {
   "cell_type": "code",
   "execution_count": 193,
   "metadata": {},
   "outputs": [],
   "source": [
    "results = pd.read_sql(query.statement, engine)"
   ]
  },
  {
   "cell_type": "code",
   "execution_count": 197,
   "metadata": {},
   "outputs": [],
   "source": [
    "tracts = []\n",
    "for t in results.tract:\n",
    "    tracts.append(np.frombuffer(t, np.int64)[0])"
   ]
  },
  {
   "cell_type": "code",
   "execution_count": 199,
   "metadata": {},
   "outputs": [],
   "source": [
    "results['tract'] = tracts"
   ]
  },
  {
   "cell_type": "code",
   "execution_count": 200,
   "metadata": {},
   "outputs": [
    {
     "data": {
      "text/plain": [
       "489"
      ]
     },
     "execution_count": 200,
     "metadata": {},
     "output_type": "execute_result"
    }
   ],
   "source": [
    "len(np.unique(tracts))"
   ]
  },
  {
   "cell_type": "code",
   "execution_count": 201,
   "metadata": {},
   "outputs": [
    {
     "data": {
      "text/plain": [
       "(90931, 90931)"
      ]
     },
     "execution_count": 201,
     "metadata": {},
     "output_type": "execute_result"
    }
   ],
   "source": [
    "len(results), len(cat)"
   ]
  },
  {
   "cell_type": "code",
   "execution_count": 191,
   "metadata": {},
   "outputs": [],
   "source": [
    "path = '/tigress/jgreco/hugs-s18a/hsc-s18a-wide-20180920-133449/'\n",
    "results.to_csv(path + 'hugs-cat-with-tract-and-patch.csv', index=False)"
   ]
  }
 ],
 "metadata": {
  "kernelspec": {
   "display_name": "Python 3",
   "language": "python",
   "name": "python3"
  },
  "language_info": {
   "codemirror_mode": {
    "name": "ipython",
    "version": 3
   },
   "file_extension": ".py",
   "mimetype": "text/x-python",
   "name": "python",
   "nbconvert_exporter": "python",
   "pygments_lexer": "ipython3",
   "version": "3.6.6"
  }
 },
 "nbformat": 4,
 "nbformat_minor": 2
}
