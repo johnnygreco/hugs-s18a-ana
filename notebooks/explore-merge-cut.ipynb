{
 "cells": [
  {
   "cell_type": "code",
   "execution_count": 174,
   "metadata": {},
   "outputs": [],
   "source": [
    "%matplotlib inline\n",
    "import numpy as np\n",
    "import matplotlib.pyplot as plt\n",
    "from astropy.table import Table\n",
    "from astropy.coordinates import SkyCoord\n",
    "\n",
    "from hugs.utils import ra_dec_to_xyz, angular_dist_to_euclidean_dist\n",
    "from hugs.utils import euclidean_dist_to_angular_dist\n",
    "from sklearn.neighbors import KDTree"
   ]
  },
  {
   "cell_type": "code",
   "execution_count": 192,
   "metadata": {},
   "outputs": [],
   "source": [
    "cat = Table.read('/tigress/jgreco/hsc-s18a/hugs-run/'\\\n",
    "                 'hugs-s18a-02/catalog/hugs-s18a-02-vizinspect.csv')\n",
    "\n",
    "xyz = np.asarray(ra_dec_to_xyz(cat['ra'], cat['dec'])).T\n",
    "\n",
    "neigh_rad = 30\n",
    "\n",
    "kdt = KDTree(xyz)\n",
    "idx, dist = kdt.query_radius(\n",
    "        xyz, angular_dist_to_euclidean_dist(neigh_rad / 3600.0),\n",
    "        count_only=False, return_distance=True)\n",
    "\n",
    "cat['viz-id-merge'] = np.ones(len(cat), dtype=int) * -99"
   ]
  },
  {
   "cell_type": "code",
   "execution_count": 209,
   "metadata": {},
   "outputs": [
    {
     "data": {
      "text/html": [
       "&lt;Column name=&apos;flux_radius_ave_g&apos; dtype=&apos;float64&apos; length=6&gt;\n",
       "<table>\n",
       "<tr><td>8.324484000000002</td></tr>\n",
       "<tr><td>4.311552000000001</td></tr>\n",
       "<tr><td>3.3527760000000004</td></tr>\n",
       "<tr><td>11.141340000000001</td></tr>\n",
       "<tr><td>4.903752000000001</td></tr>\n",
       "<tr><td>6.003564000000001</td></tr>\n",
       "</table>"
      ],
      "text/plain": [
       "<Column name='flux_radius_ave_g' dtype='float64' length=6>\n",
       " 8.324484000000002\n",
       " 4.311552000000001\n",
       "3.3527760000000004\n",
       "11.141340000000001\n",
       " 4.903752000000001\n",
       " 6.003564000000001"
      ]
     },
     "execution_count": 209,
     "metadata": {},
     "output_type": "execute_result"
    }
   ],
   "source": [
    "cat['flux_radius_ave_g'][idx[1005]]"
   ]
  },
  {
   "cell_type": "code",
   "execution_count": 211,
   "metadata": {},
   "outputs": [
    {
     "data": {
      "text/plain": [
       "(19.927892694720335, 13.253486400000003)"
      ]
     },
     "execution_count": 211,
     "metadata": {},
     "output_type": "execute_result"
    }
   ],
   "source": [
    "ang_dist = euclidean_dist_to_angular_dist(dist[1005]*3600)\n",
    "ang_dist[ang_dist>0].mean(), 2*cat['flux_radius_ave_g'][idx[1005]][ang_dist>0].mean()"
   ]
  },
  {
   "cell_type": "code",
   "execution_count": 202,
   "metadata": {},
   "outputs": [
    {
     "name": "stdout",
     "output_type": "stream",
     "text": [
      "0\n",
      "10000\n",
      "20000\n",
      "30000\n",
      "40000\n",
      "50000\n",
      "60000\n",
      "70000\n",
      "80000\n",
      "90000\n",
      "100000\n",
      "110000\n",
      "120000\n",
      "130000\n"
     ]
    }
   ],
   "source": [
    "found = []\n",
    "\n",
    "cat['viz-id-merge'] = cat['viz-id']\n",
    "for i in range(len(idx)):\n",
    "\n",
    "    if i % 10000 == 0:\n",
    "        print(i)\n",
    "        \n",
    "    if i not in found and (len(idx[i]) >= 5):\n",
    "        cat['viz-id-merge'][idx[i]] = i + 1\n",
    "        \n",
    "    found = np.unique(np.concatenate([found, idx[i]])).astype(int)"
   ]
  },
  {
   "cell_type": "code",
   "execution_count": 204,
   "metadata": {},
   "outputs": [
    {
     "data": {
      "text/html": [
       "&lt;Column name=&apos;viz-id-merge&apos; dtype=&apos;int64&apos; length=136960&gt;\n",
       "<table>\n",
       "<tr><td>1</td></tr>\n",
       "<tr><td>2</td></tr>\n",
       "<tr><td>3</td></tr>\n",
       "<tr><td>4</td></tr>\n",
       "<tr><td>5</td></tr>\n",
       "<tr><td>6</td></tr>\n",
       "<tr><td>7</td></tr>\n",
       "<tr><td>8</td></tr>\n",
       "<tr><td>9</td></tr>\n",
       "<tr><td>10</td></tr>\n",
       "<tr><td>11</td></tr>\n",
       "<tr><td>12</td></tr>\n",
       "<tr><td>...</td></tr>\n",
       "<tr><td>136949</td></tr>\n",
       "<tr><td>136950</td></tr>\n",
       "<tr><td>136951</td></tr>\n",
       "<tr><td>136952</td></tr>\n",
       "<tr><td>136953</td></tr>\n",
       "<tr><td>136954</td></tr>\n",
       "<tr><td>136955</td></tr>\n",
       "<tr><td>136956</td></tr>\n",
       "<tr><td>136957</td></tr>\n",
       "<tr><td>136958</td></tr>\n",
       "<tr><td>136959</td></tr>\n",
       "<tr><td>136960</td></tr>\n",
       "</table>"
      ],
      "text/plain": [
       "<Column name='viz-id-merge' dtype='int64' length=136960>\n",
       "     1\n",
       "     2\n",
       "     3\n",
       "     4\n",
       "     5\n",
       "     6\n",
       "     7\n",
       "     8\n",
       "     9\n",
       "    10\n",
       "    11\n",
       "    12\n",
       "   ...\n",
       "136949\n",
       "136950\n",
       "136951\n",
       "136952\n",
       "136953\n",
       "136954\n",
       "136955\n",
       "136956\n",
       "136957\n",
       "136958\n",
       "136959\n",
       "136960"
      ]
     },
     "execution_count": 204,
     "metadata": {},
     "output_type": "execute_result"
    }
   ],
   "source": [
    "cat['viz-id-merge']"
   ]
  },
  {
   "cell_type": "code",
   "execution_count": 205,
   "metadata": {},
   "outputs": [
    {
     "data": {
      "text/plain": [
       "5203"
      ]
     },
     "execution_count": 205,
     "metadata": {},
     "output_type": "execute_result"
    }
   ],
   "source": [
    "len(cat) - np.unique(cat['viz-id-merge']).size"
   ]
  },
  {
   "cell_type": "code",
   "execution_count": 142,
   "metadata": {},
   "outputs": [],
   "source": [
    "num = [len(idx[i]) for i in range(len(idx))]\n",
    "num = np.array(num)"
   ]
  },
  {
   "cell_type": "code",
   "execution_count": 158,
   "metadata": {},
   "outputs": [
    {
     "data": {
      "text/plain": [
       "(0.5821991822429906, 79738)"
      ]
     },
     "execution_count": 158,
     "metadata": {},
     "output_type": "execute_result"
    }
   ],
   "source": [
    "v = 1\n",
    "(num <= v).sum() / len(num), (num <= v).sum() "
   ]
  },
  {
   "cell_type": "code",
   "execution_count": 145,
   "metadata": {},
   "outputs": [
    {
     "data": {
      "image/png": "[encoded data removed]",
      "text/plain": [
       "<Figure size 432x288 with 1 Axes>"
      ]
     },
     "metadata": {
      "needs_background": "light"
     },
     "output_type": "display_data"
    }
   ],
   "source": [
    "plt.hist(num, bins=10, log=True);"
   ]
  },
  {
   "cell_type": "code",
   "execution_count": 66,
   "metadata": {},
   "outputs": [],
   "source": [
    "df = cat.to_pandas()"
   ]
  },
  {
   "cell_type": "code",
   "execution_count": null,
   "metadata": {},
   "outputs": [],
   "source": [
    "df.set_index"
   ]
  },
  {
   "cell_type": "code",
   "execution_count": 65,
   "metadata": {},
   "outputs": [
    {
     "data": {
      "text/plain": [
       "136960"
      ]
     },
     "execution_count": 65,
     "metadata": {},
     "output_type": "execute_result"
    }
   ],
   "source": [
    "len(idx)"
   ]
  },
  {
   "cell_type": "code",
   "execution_count": 69,
   "metadata": {},
   "outputs": [
    {
     "data": {
      "text/plain": [
       "49084"
      ]
     },
     "execution_count": 69,
     "metadata": {},
     "output_type": "execute_result"
    }
   ],
   "source": [
    "(sep.arcsec < 35).sum() "
   ]
  },
  {
   "cell_type": "code",
   "execution_count": 71,
   "metadata": {
    "scrolled": false
   },
   "outputs": [],
   "source": [
    "groups = cat[sep.arcsec < 35].copy()"
   ]
  },
  {
   "cell_type": "code",
   "execution_count": 77,
   "metadata": {},
   "outputs": [
    {
     "data": {
      "text/plain": [
       "<bound method SkyCoord.separation of <SkyCoord (ICRS): (ra, dec) in deg\n",
       "    (216.9542901, -0.0939788)>>"
      ]
     },
     "execution_count": 77,
     "metadata": {},
     "output_type": "execute_result"
    }
   ],
   "source": [
    "coord[0].separation"
   ]
  },
  {
   "cell_type": "code",
   "execution_count": 75,
   "metadata": {},
   "outputs": [
    {
     "data": {
      "text/plain": [
       "2"
      ]
     },
     "execution_count": 75,
     "metadata": {},
     "output_type": "execute_result"
    }
   ],
   "source": [
    "num = np.array(num) - 1\n",
    "plt.hist(num, bins='auto')"
   ]
  },
  {
   "cell_type": "code",
   "execution_count": 38,
   "metadata": {},
   "outputs": [],
   "source": [
    "cut = sep.arcmin < 1.0"
   ]
  },
  {
   "cell_type": "code",
   "execution_count": 61,
   "metadata": {},
   "outputs": [
    {
     "data": {
      "text/plain": [
       "<SkyCoord (ICRS): (ra, dec) in deg\n",
       "    [(37.7084456, -3.9885458)]>"
      ]
     },
     "execution_count": 61,
     "metadata": {},
     "output_type": "execute_result"
    }
   ],
   "source": [
    "idx = np.random.choice(np.arange(cut.sum()), 1)\n",
    "coord[cut][idx]"
   ]
  },
  {
   "cell_type": "code",
   "execution_count": 62,
   "metadata": {},
   "outputs": [
    {
     "data": {
      "text/html": [
       "<i>Table length=1</i>\n",
       "<table id=\"table47181038976752\" class=\"table-striped table-bordered table-condensed\">\n",
       "<thead><tr><th>ra</th><th>dec</th><th>a_image</th><th>b_image</th><th>theta_image</th><th>ellipticity</th><th>mag_auto_g</th><th>mag_auto_r</th><th>mag_auto_i</th><th>flux_radius_ave_g</th><th>flux_radius_ave_i</th><th>mu_ave_g</th><th>mu_ave_i</th><th>acorr_ratio</th><th>g-i</th><th>g-r</th><th>A_g</th><th>A_r</th><th>A_i</th><th>tract</th><th>patch</th><th>viz-id</th></tr></thead>\n",
       "<thead><tr><th>float64</th><th>float64</th><th>float64</th><th>float64</th><th>float64</th><th>float64</th><th>float64</th><th>float64</th><th>float64</th><th>float64</th><th>float64</th><th>float64</th><th>float64</th><th>float64</th><th>float64</th><th>float64</th><th>float64</th><th>float64</th><th>float64</th><th>int64</th><th>str3</th><th>int64</th></tr></thead>\n",
       "<tr><td>37.7084456</td><td>-3.9885458</td><td>6.17</td><td>3.891</td><td>58.75</td><td>0.369</td><td>22.8038</td><td>22.255</td><td>22.0795</td><td>5.176500000000001</td><td>4.523904</td><td>27.964067471126068</td><td>26.905849631284042</td><td>1.651847184221325</td><td>0.9184034563330125</td><td>0.6423309486018127</td><td>0.08638168064792023</td><td>0.06121262924973252</td><td>0.04368513698093089</td><td>8767</td><td>1,3</td><td>122991</td></tr>\n",
       "</table>"
      ],
      "text/plain": [
       "<Table length=1>\n",
       "    ra        dec     a_image b_image ...         A_i         tract patch viz-id\n",
       " float64    float64   float64 float64 ...       float64       int64  str3 int64 \n",
       "---------- ---------- ------- ------- ... ------------------- ----- ----- ------\n",
       "37.7084456 -3.9885458    6.17   3.891 ... 0.04368513698093089  8767   1,3 122991"
      ]
     },
     "execution_count": 62,
     "metadata": {},
     "output_type": "execute_result"
    }
   ],
   "source": [
    "cat[cut][idx]"
   ]
  },
  {
   "cell_type": "code",
   "execution_count": 52,
   "metadata": {},
   "outputs": [
    {
     "data": {
      "text/plain": [
       "array([1586])"
      ]
     },
     "execution_count": 52,
     "metadata": {},
     "output_type": "execute_result"
    }
   ],
   "source": [
    "idx"
   ]
  },
  {
   "cell_type": "code",
   "execution_count": 32,
   "metadata": {},
   "outputs": [
    {
     "data": {
      "text/plain": [
       "array([14513])"
      ]
     },
     "execution_count": 32,
     "metadata": {},
     "output_type": "execute_result"
    }
   ],
   "source": [
    "idx"
   ]
  },
  {
   "cell_type": "code",
   "execution_count": null,
   "metadata": {},
   "outputs": [],
   "source": [
    "182.6314577, -1.3043262"
   ]
  }
 ],
 "metadata": {
  "kernelspec": {
   "display_name": "Python 3",
   "language": "python",
   "name": "python3"
  },
  "language_info": {
   "codemirror_mode": {
    "name": "ipython",
    "version": 3
   },
   "file_extension": ".py",
   "mimetype": "text/x-python",
   "name": "python",
   "nbconvert_exporter": "python",
   "pygments_lexer": "ipython3",
   "version": "3.7.2"
  }
 },
 "nbformat": 4,
 "nbformat_minor": 2
}
